{
  "nbformat": 4,
  "nbformat_minor": 0,
  "metadata": {
    "colab": {
      "provenance": []
    },
    "kernelspec": {
      "name": "python3",
      "display_name": "Python 3"
    },
    "language_info": {
      "name": "python"
    }
  },
  "cells": [
    {
      "cell_type": "code",
      "source": [
        "from datetime import date\n",
        "from datetime import timedelta"
      ],
      "metadata": {
        "id": "XS72x3vOdMOf"
      },
      "execution_count": 4,
      "outputs": []
    },
    {
      "cell_type": "code",
      "source": [
        "injection_date = date.today() - timedelta(days=1)\n",
        "withdrawal_date = date.today()\n",
        "price = 0\n",
        "stored = 0\n",
        "max_storage = 10\n",
        "move_rate = 0\n",
        "storage_rate = 0\n",
        "buy_price = 0\n",
        "sell_price = 0\n",
        "amount = 0"
      ],
      "metadata": {
        "id": "SGZOXlnndObp"
      },
      "execution_count": 25,
      "outputs": []
    },
    {
      "cell_type": "code",
      "source": [
        "def buy(injection_volume):\n",
        "  global stored\n",
        "  if (stored + injection_volume) > max_storage:\n",
        "    print(\"Max capacity!\")\n",
        "  else: stored += injection_volume\n",
        "  return stored\n",
        "\n",
        "# buy(40)"
      ],
      "metadata": {
        "colab": {
          "base_uri": "https://localhost:8080/"
        },
        "id": "N9on8UEnfpmq",
        "outputId": "a2d0c7f5-e589-435d-d317-f10bee1c587f"
      },
      "execution_count": 32,
      "outputs": [
        {
          "output_type": "stream",
          "name": "stdout",
          "text": [
            "Max capacity\n"
          ]
        },
        {
          "output_type": "execute_result",
          "data": {
            "text/plain": [
              "3"
            ]
          },
          "metadata": {},
          "execution_count": 32
        }
      ]
    },
    {
      "cell_type": "code",
      "source": [
        "profit = (amount * sell_price) - ((amount * buy_price) + (amount * move_rate) + (amount * storage_rate))"
      ],
      "metadata": {
        "id": "o2kck6MziwY5"
      },
      "execution_count": null,
      "outputs": []
    }
  ]
}